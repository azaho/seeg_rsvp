{
 "cells": [
  {
   "cell_type": "code",
   "execution_count": null,
   "metadata": {
    "vscode": {
     "languageId": "plaintext"
    }
   },
   "outputs": [],
   "source": [
    "import numpy as np\n",
    "\n",
    "# Load the log arrays\n",
    "log_data = np.load(r'C:\\Users\\Andrii\\Documents\\seeg_rsvp\\trial_data\\2025-08-01_18-19-12\\log_arrays.npz')\n",
    "\n",
    "# Get relevant arrays\n",
    "success_clicks = log_data['SUCCESS_CLICKS']\n",
    "failure_clicks = log_data['FAILURE_CLICKS'] \n",
    "target_stimulus_idx = log_data['TARGET_STIMULUS_IDX']\n",
    "\n",
    "# Calculate metrics\n",
    "num_targets = len(target_stimulus_idx)\n",
    "num_targets_caught = len(success_clicks)\n",
    "num_wrong_clicks = len(failure_clicks)\n",
    "\n",
    "print(f\"Total targets: {num_targets}\")\n",
    "print(f\"Targets caught: {num_targets_caught}\")\n",
    "print(f\"Wrong clicks: {num_wrong_clicks}\")\n",
    "\n"
   ]
  },
  {
   "cell_type": "code",
   "execution_count": null,
   "metadata": {
    "vscode": {
     "languageId": "plaintext"
    }
   },
   "outputs": [],
   "source": []
  }
 ],
 "metadata": {
  "language_info": {
   "name": "python"
  }
 },
 "nbformat": 4,
 "nbformat_minor": 2
}
